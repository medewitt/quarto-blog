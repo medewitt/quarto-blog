{
  "cells": [
    {
      "cell_type": "raw",
      "metadata": {},
      "source": [
        "---\n",
        "title: Parallel Tempering in Julia\n",
        "description: |\n",
        "  whatcha writing about?\n",
        "date: '2022-08-28'\n",
        "categories:\n",
        "  - Bayes\n",
        "  - Julia\n",
        "  - Turing\n",
        "  - Parallel Tempering\n",
        "draft: true\n",
        "---"
      ],
      "id": "ea107f79"
    },
    {
      "cell_type": "code",
      "metadata": {},
      "source": [
        "using Pkg;\n",
        "Pkg.activate(\"./programming/2022-08-28-parallel-tempering-in-julia\")"
      ],
      "id": "b22722aa",
      "execution_count": null,
      "outputs": []
    },
    {
      "cell_type": "code",
      "metadata": {},
      "source": [
        "using DifferentialEquations\n",
        "using DiffEqSensitivity\n",
        "using Random\n",
        "using Distributions\n",
        "using Turing\n",
        "using DataFrames\n",
        "using StatsPlots\n",
        "using MCMCTempering"
      ],
      "id": "d4fe7c4c",
      "execution_count": null,
      "outputs": []
    },
    {
      "cell_type": "code",
      "metadata": {},
      "source": [
        "function sir_ode!(du,u,p,t)\n",
        "    (S,I,R,C) = u\n",
        "    (β,c,γ, δ) = p\n",
        "    N = S+I+R\n",
        "    infection = β*c*I*S/N\n",
        "    recovery = γ*I\n",
        "    wane = δ * R\n",
        "    @inbounds begin\n",
        "        du[1] = -infection + wane\n",
        "        du[2] = infection - recovery\n",
        "        du[3] = recovery - wane\n",
        "        du[4] = infection \n",
        "    end\n",
        "    nothing\n",
        "end;\n",
        "\n",
        "\n",
        "tmax = 365.0\n",
        "tspan = (0.0,tmax)\n",
        "obstimes = 1.0:1.0:tmax\n",
        "u0 = [5990.0,10.0,0.0,0.0] # S,I.R,C\n",
        "p = [0.05,10.0,0.20, 1.0/180]; # β, c, γ, δ\n",
        "\n",
        "\n",
        "prob_ode = ODEProblem(sir_ode!,u0,tspan,p);\n",
        "\n",
        "\n",
        "sol_ode = solve(prob_ode,\n",
        "            Tsit5(),\n",
        "            saveat = 1.0);"
      ],
      "id": "325127cb",
      "execution_count": null,
      "outputs": []
    },
    {
      "cell_type": "code",
      "metadata": {},
      "source": [
        "C = Array(sol_ode)[4,:] # Cumulative cases\n",
        "X = C[2:end] - C[1:(end-1)];\n",
        "\n",
        "\n",
        "Random.seed!(1234)\n",
        "Y = rand.(Poisson.(X));\n",
        "\n",
        "\n",
        "bar(obstimes,Y,legend=false)\n",
        "plot!(obstimes,X,legend=false)"
      ],
      "id": "e192d1fe",
      "execution_count": null,
      "outputs": []
    },
    {
      "cell_type": "code",
      "metadata": {},
      "source": [
        "@model bayes_sir(y) = begin\n",
        "  # Calculate number of timepoints\n",
        "  l = length(y)\n",
        "  i₀  ~ Uniform(0.0,.2)\n",
        "  β ~ Uniform(0, .1)\n",
        "  immunity ~ Uniform(90,365)\n",
        "\n",
        "  I = i₀*6000.0\n",
        "  u0=[6000.0-I,I,0.0,0.0]\n",
        "  p=[β,10.0,0.2, 1.0/immunity]\n",
        "  tspan = (0.0,float(l))\n",
        "  prob = ODEProblem(sir_ode!,\n",
        "          u0,\n",
        "          tspan,\n",
        "          p)\n",
        "  sol = solve(prob,\n",
        "              Tsit5(),\n",
        "              saveat = 1.0)\n",
        "  sol_C = Array(sol)[4,:] # Cumulative cases\n",
        "  sol_X = sol_C[2:end] - sol_C[1:(end-1)]\n",
        "  l = length(y)\n",
        "  for i in 1:l\n",
        "    y[i] ~ Poisson(ifelse(sol_X[i] <0 , 1e-6, sol_X[i] ))\n",
        "  end\n",
        "end;\n",
        "\n",
        "mod = bayes_sir(Y[1:200]);\n",
        "\n",
        "ode_nuts = sample(mod, NUTS(0.65),10000);"
      ],
      "id": "84226a6d",
      "execution_count": null,
      "outputs": []
    },
    {
      "cell_type": "code",
      "metadata": {},
      "source": [
        "const temperature_steps = 4\n",
        "using MCMCTempering\n",
        "sampler2 = NUTS()\n",
        "tempered_sampler = tempered(sampler2, temperature_steps)\n",
        "\n",
        "chain = sample(mod, tempered_sampler, n_samples; discard_initial = n_adapts)"
      ],
      "id": "0fe37f4d",
      "execution_count": null,
      "outputs": []
    }
  ],
  "metadata": {
    "kernelspec": {
      "name": "julia-1.7",
      "language": "julia",
      "display_name": "Julia 1.7.3"
    }
  },
  "nbformat": 4,
  "nbformat_minor": 5
}